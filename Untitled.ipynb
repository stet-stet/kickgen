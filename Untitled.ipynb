{
 "cells": [
  {
   "cell_type": "code",
   "execution_count": 13,
   "metadata": {},
   "outputs": [
    {
     "name": "stdout",
     "output_type": "stream",
     "text": [
      "Parameter containing:\n",
      "tensor([[[ 0.5661, -0.2802,  0.4005]]], requires_grad=True) <class 'torch.nn.parameter.Parameter'>\n",
      "tensor([[[1.2073, 1.8937, 2.5802]]], grad_fn=<SqueezeBackward1>)\n"
     ]
    }
   ],
   "source": [
    "import torch\n",
    "import torch.nn as nn\n",
    "\n",
    "lyr = nn.Conv1d(in_channels=1,out_channels=1,kernel_size=3,stride=1,bias=False)\n",
    "for entry in lyr.parameters():\n",
    "    print(entry,type(entry))\n",
    "\n",
    "param = torch.tensor([1,2,3,4,5],dtype=torch.float32)\n",
    "param = param.reshape((1,1,len(param)))\n",
    "print(lyr(param))"
   ]
  },
  {
   "cell_type": "code",
   "execution_count": 14,
   "metadata": {},
   "outputs": [
    {
     "name": "stdout",
     "output_type": "stream",
     "text": [
      "Parameter containing:\n",
      "tensor([[[-0.4788,  0.3121]]], requires_grad=True) <class 'torch.nn.parameter.Parameter'>\n",
      "tensor([[[ 0.3121,  0.1454, -0.0213, -0.1880, -0.3547, -2.3941]]],\n",
      "       grad_fn=<SqueezeBackward1>)\n"
     ]
    }
   ],
   "source": [
    "# now introducig padding:\n",
    "\n",
    "lyr = nn.Conv1d(in_channels=1,out_channels=1,kernel_size=2,stride=1,padding=1,bias=False)\n",
    "for entry in lyr.parameters():\n",
    "    print(entry,type(entry))\n",
    "    \n",
    "param = torch.tensor([1,2,3,4,5],dtype=torch.float32)\n",
    "param = param.reshape((1,1,len(param)))\n",
    "print(lyr(param))\n",
    "\n",
    "# six outputs. padding's on each side. \n",
    "# also the value of padding is 0."
   ]
  },
  {
   "cell_type": "code",
   "execution_count": 15,
   "metadata": {},
   "outputs": [
    {
     "name": "stdout",
     "output_type": "stream",
     "text": [
      "Parameter containing:\n",
      "tensor([[[ 0.0705, -0.4679]]], requires_grad=True) <class 'torch.nn.parameter.Parameter'>\n",
      "tensor([[[-1.3331, -1.7305, -2.1279]]], grad_fn=<SqueezeBackward1>)\n"
     ]
    }
   ],
   "source": [
    "# now introducig dilation\n",
    "\n",
    "lyr = nn.Conv1d(in_channels=1,out_channels=1,kernel_size=2,stride=1,dilation=2,bias=False)\n",
    "for entry in lyr.parameters():\n",
    "    print(entry,type(entry))\n",
    "    \n",
    "param = torch.tensor([1,2,3,4,5],dtype=torch.float32)\n",
    "param = param.reshape((1,1,len(param)))\n",
    "print(lyr(param))\n"
   ]
  },
  {
   "cell_type": "code",
   "execution_count": 24,
   "metadata": {},
   "outputs": [
    {
     "name": "stdout",
     "output_type": "stream",
     "text": [
      "Parameter containing:\n",
      "tensor([[[0.1678, 0.3504]]], requires_grad=True) <class 'torch.nn.parameter.Parameter'>\n",
      "tensor([[[0.3504, 0.7008, 1.0512, 1.4016, 1.7520]]], grad_fn=<SliceBackward>)\n"
     ]
    }
   ],
   "source": [
    "# suppose\n",
    "dilation = 512\n",
    "# we want the convs to be calculated well for the first input as well.\n",
    "# hence we do:\n",
    "lyr = nn.Conv1d(in_channels=1,out_channels=1,kernel_size=2,stride=1\n",
    "                ,padding=dilation,dilation=dilation,bias=False)\n",
    "for entry in lyr.parameters():\n",
    "    print(entry,type(entry))\n",
    "    \n",
    "param = torch.tensor([1,2,3,4,5],dtype=torch.float32)\n",
    "param = param.reshape((1,1,len(param)))\n",
    "#and then take the first five only.\n",
    "param = lyr(param)[:,:,:param.shape[2]]\n",
    "print(param)"
   ]
  },
  {
   "cell_type": "code",
   "execution_count": 5,
   "metadata": {},
   "outputs": [
    {
     "name": "stdout",
     "output_type": "stream",
     "text": [
      "0 out of 8763 files\n",
      "1000 out of 8763 files\n",
      "2000 out of 8763 files\n",
      "3000 out of 8763 files\n",
      "4000 out of 8763 files\n",
      "5000 out of 8763 files\n",
      "6000 out of 8763 files\n",
      "7000 out of 8763 files\n",
      "8000 out of 8763 files\n",
      "0\n",
      "1000\n",
      "2000\n",
      "3000\n",
      "4000\n",
      "5000\n",
      "6000\n",
      "7000\n",
      "8000\n"
     ]
    }
   ],
   "source": [
    "import importlib\n",
    "import random\n",
    "import model_wavenet\n",
    "import preprocess_wavenet\n",
    "importlib.reload(model_wavenet)\n",
    "importlib.reload(preprocess_wavenet)\n",
    "dat = preprocess_wavenet.WavenetDataset(\"./dataset_hashed\")\n",
    "data_no = len(dat)"
   ]
  },
  {
   "cell_type": "code",
   "execution_count": 6,
   "metadata": {},
   "outputs": [
    {
     "name": "stdout",
     "output_type": "stream",
     "text": [
      "torch.Size([256, 77746])\n",
      "torch.Size([1, 77746])\n",
      "tensor([[-0.0039,  0.0155, -0.0466,  ..., -0.1845, -0.1022, -0.0768],\n",
      "        [-0.0040,  0.0336, -0.0334,  ..., -0.1729, -0.1327, -0.0621],\n",
      "        [-0.0488,  0.0457, -0.0176,  ..., -0.1857, -0.1582, -0.0810],\n",
      "        ...,\n",
      "        [-0.1516,  0.0754,  0.1143,  ..., -0.2286, -0.1303, -0.0246],\n",
      "        [-0.1515,  0.0772,  0.1158,  ..., -0.2281, -0.1286, -0.0203],\n",
      "        [-0.1515,  0.0750,  0.1158,  ..., -0.2289, -0.1299, -0.0248]],\n",
      "       grad_fn=<ViewBackward>)\n",
      "torch.Size([77746, 256])\n",
      "tensor([[[0., 0., 0.,  ..., 0., 0., 0.],\n",
      "         [0., 0., 0.,  ..., 0., 0., 0.],\n",
      "         [0., 0., 0.,  ..., 0., 0., 0.],\n",
      "         ...,\n",
      "         [0., 0., 0.,  ..., 0., 0., 0.],\n",
      "         [0., 0., 0.,  ..., 0., 0., 0.],\n",
      "         [0., 0., 0.,  ..., 1., 1., 1.]]])\n"
     ]
    }
   ],
   "source": [
    "importlib.reload(model_wavenet)\n",
    "importlib.reload(preprocess_wavenet)\n",
    "example_data, example_target, example_identity = dat[random.randint(0,data_no-1)]\n",
    "print(example_data.shape)\n",
    "print(example_target.shape)\n",
    "example_data = example_data.unsqueeze(0)\n",
    "md = model_wavenet.WaveNetModel(len(dat))\n",
    "print(md(example_data,example_identity))\n",
    "print(md(example_data,example_identity).shape)\n",
    "print(example_data)"
   ]
  },
  {
   "cell_type": "code",
   "execution_count": null,
   "metadata": {},
   "outputs": [
    {
     "name": "stdout",
     "output_type": "stream",
     "text": [
      "epoch 0\n",
      "0 1 2 3 4 5 6 7 8 9 10 11 12 13 14 15 16 17 18 19 20 21 22 23 24 25 26 27 28 29 30 31 step: 1 \t loss: 177.52976369857788\n",
      "0 1 2 3 4 5 6 7 8 9 10 11 12 13 14 15 16 17 18 19 20 21 22 23 24 25 26 27 28 29 30 31 step: 2 \t loss: 176.55720901489258\n",
      "0 1 2 3 4 5 6 7 8 9 10 11 12 13 14 15 16 17 18 19 20 21 22 23 24 25 26 27 28 29 30 31 each training step took approx. 209.46144318580627 seconds.\n",
      "step: 3 \t loss: 175.5762734413147\n",
      "0 1 2 3 4 5 6 7 8 9 10 11 12 13 14 15 16 17 18 19 20 21 22 23 24 25 26 27 28 29 30 31 step: 4 \t loss: 174.54456758499146\n",
      "0 1 2 3 4 5 6 7 8 9 10 11 12 13 14 15 16 17 18 19 20 21 22 23 24 25 26 27 28 29 30 31 step: 5 \t loss: 173.62703227996826\n",
      "0 1 2 3 4 5 6 7 8 9 10 11 12 13 14 15 16 17 18 19 20 21 22 23 24 25 26 27 28 29 30 31 each training step took approx. 200.07731322447458 seconds.\n",
      "step: 6 \t loss: 172.2932572364807\n",
      "0 1 2 3 4 5 6 7 8 9 10 11 12 13 14 15 16 17 18 19 20 21 22 23 24 25 26 27 28 29 30 31 step: 7 \t loss: 170.679762840271\n",
      "0 1 2 3 4 5 6 7 8 9 10 11 12 13 14 15 16 17 18 19 20 21 22 23 24 25 26 27 28 29 30 31 step: 8 \t loss: 170.0679488182068\n",
      "0 1 2 3 4 5 6 7 8 9 10 11 12 13 14 15 16 17 18 19 20 21 22 23 24 25 26 27 28 29 30 31 each training step took approx. 192.74094904793634 seconds.\n",
      "step: 9 \t loss: 169.02847909927368\n",
      "0 1 2 3 4 5 6 7 8 9 10 11 12 13 14 15 16 17 18 19 20 21 22 23 24 25 26 27 28 29 30 31 step: 10 \t loss: 168.37913417816162\n",
      "0 1 2 3 "
     ]
    }
   ],
   "source": [
    "import train_wavenet\n",
    "importlib.reload(train_wavenet)\n",
    "trainer = train_wavenet.WavenetTrainer(model=md,dataset=dat)\n",
    "trainer.get_random_data()\n",
    "trainer.train(batch_size=32,epochs=10)"
   ]
  },
  {
   "cell_type": "code",
   "execution_count": 69,
   "metadata": {},
   "outputs": [
    {
     "name": "stderr",
     "output_type": "stream",
     "text": [
      "/home/manymanymanythanks/anaconda3/envs/kickgen_wvnet/lib/python3.8/site-packages/numpy/core/_asarray.py:83: VisibleDeprecationWarning: Creating an ndarray from ragged nested sequences (which is a list-or-tuple of lists-or-tuples-or ndarrays with different lengths or shapes) is deprecated. If you meant to do this, you must specify 'dtype=object' when creating the ndarray\n",
      "  return array(a, dtype, copy=False, order=order)\n"
     ]
    },
    {
     "ename": "ValueError",
     "evalue": "operands could not be broadcast together with shapes (17920,) (86363,) ",
     "output_type": "error",
     "traceback": [
      "\u001b[0;31m---------------------------------------------------------------------------\u001b[0m",
      "\u001b[0;31mValueError\u001b[0m                                Traceback (most recent call last)",
      "\u001b[0;32m<ipython-input-69-d223fbf8fa5a>\u001b[0m in \u001b[0;36m<module>\u001b[0;34m\u001b[0m\n\u001b[1;32m      1\u001b[0m \u001b[0;32mimport\u001b[0m \u001b[0mnumpy\u001b[0m \u001b[0;32mas\u001b[0m \u001b[0mnp\u001b[0m\u001b[0;34m\u001b[0m\u001b[0;34m\u001b[0m\u001b[0m\n\u001b[0;32m----> 2\u001b[0;31m \u001b[0mnp\u001b[0m\u001b[0;34m.\u001b[0m\u001b[0margmin\u001b[0m\u001b[0;34m(\u001b[0m\u001b[0mdat\u001b[0m\u001b[0;34m.\u001b[0m\u001b[0mget_data\u001b[0m\u001b[0;34m(\u001b[0m\u001b[0;34m)\u001b[0m\u001b[0;34m)\u001b[0m\u001b[0;34m\u001b[0m\u001b[0;34m\u001b[0m\u001b[0m\n\u001b[0m",
      "\u001b[0;32m<__array_function__ internals>\u001b[0m in \u001b[0;36margmin\u001b[0;34m(*args, **kwargs)\u001b[0m\n",
      "\u001b[0;32m~/anaconda3/envs/kickgen_wvnet/lib/python3.8/site-packages/numpy/core/fromnumeric.py\u001b[0m in \u001b[0;36margmin\u001b[0;34m(a, axis, out)\u001b[0m\n\u001b[1;32m   1267\u001b[0m \u001b[0;34m\u001b[0m\u001b[0m\n\u001b[1;32m   1268\u001b[0m     \"\"\"\n\u001b[0;32m-> 1269\u001b[0;31m     \u001b[0;32mreturn\u001b[0m \u001b[0m_wrapfunc\u001b[0m\u001b[0;34m(\u001b[0m\u001b[0ma\u001b[0m\u001b[0;34m,\u001b[0m \u001b[0;34m'argmin'\u001b[0m\u001b[0;34m,\u001b[0m \u001b[0maxis\u001b[0m\u001b[0;34m=\u001b[0m\u001b[0maxis\u001b[0m\u001b[0;34m,\u001b[0m \u001b[0mout\u001b[0m\u001b[0;34m=\u001b[0m\u001b[0mout\u001b[0m\u001b[0;34m)\u001b[0m\u001b[0;34m\u001b[0m\u001b[0;34m\u001b[0m\u001b[0m\n\u001b[0m\u001b[1;32m   1270\u001b[0m \u001b[0;34m\u001b[0m\u001b[0m\n\u001b[1;32m   1271\u001b[0m \u001b[0;34m\u001b[0m\u001b[0m\n",
      "\u001b[0;32m~/anaconda3/envs/kickgen_wvnet/lib/python3.8/site-packages/numpy/core/fromnumeric.py\u001b[0m in \u001b[0;36m_wrapfunc\u001b[0;34m(obj, method, *args, **kwds)\u001b[0m\n\u001b[1;32m     53\u001b[0m     \u001b[0mbound\u001b[0m \u001b[0;34m=\u001b[0m \u001b[0mgetattr\u001b[0m\u001b[0;34m(\u001b[0m\u001b[0mobj\u001b[0m\u001b[0;34m,\u001b[0m \u001b[0mmethod\u001b[0m\u001b[0;34m,\u001b[0m \u001b[0;32mNone\u001b[0m\u001b[0;34m)\u001b[0m\u001b[0;34m\u001b[0m\u001b[0;34m\u001b[0m\u001b[0m\n\u001b[1;32m     54\u001b[0m     \u001b[0;32mif\u001b[0m \u001b[0mbound\u001b[0m \u001b[0;32mis\u001b[0m \u001b[0;32mNone\u001b[0m\u001b[0;34m:\u001b[0m\u001b[0;34m\u001b[0m\u001b[0;34m\u001b[0m\u001b[0m\n\u001b[0;32m---> 55\u001b[0;31m         \u001b[0;32mreturn\u001b[0m \u001b[0m_wrapit\u001b[0m\u001b[0;34m(\u001b[0m\u001b[0mobj\u001b[0m\u001b[0;34m,\u001b[0m \u001b[0mmethod\u001b[0m\u001b[0;34m,\u001b[0m \u001b[0;34m*\u001b[0m\u001b[0margs\u001b[0m\u001b[0;34m,\u001b[0m \u001b[0;34m**\u001b[0m\u001b[0mkwds\u001b[0m\u001b[0;34m)\u001b[0m\u001b[0;34m\u001b[0m\u001b[0;34m\u001b[0m\u001b[0m\n\u001b[0m\u001b[1;32m     56\u001b[0m \u001b[0;34m\u001b[0m\u001b[0m\n\u001b[1;32m     57\u001b[0m     \u001b[0;32mtry\u001b[0m\u001b[0;34m:\u001b[0m\u001b[0;34m\u001b[0m\u001b[0;34m\u001b[0m\u001b[0m\n",
      "\u001b[0;32m~/anaconda3/envs/kickgen_wvnet/lib/python3.8/site-packages/numpy/core/fromnumeric.py\u001b[0m in \u001b[0;36m_wrapit\u001b[0;34m(obj, method, *args, **kwds)\u001b[0m\n\u001b[1;32m     42\u001b[0m     \u001b[0;32mexcept\u001b[0m \u001b[0mAttributeError\u001b[0m\u001b[0;34m:\u001b[0m\u001b[0;34m\u001b[0m\u001b[0;34m\u001b[0m\u001b[0m\n\u001b[1;32m     43\u001b[0m         \u001b[0mwrap\u001b[0m \u001b[0;34m=\u001b[0m \u001b[0;32mNone\u001b[0m\u001b[0;34m\u001b[0m\u001b[0;34m\u001b[0m\u001b[0m\n\u001b[0;32m---> 44\u001b[0;31m     \u001b[0mresult\u001b[0m \u001b[0;34m=\u001b[0m \u001b[0mgetattr\u001b[0m\u001b[0;34m(\u001b[0m\u001b[0masarray\u001b[0m\u001b[0;34m(\u001b[0m\u001b[0mobj\u001b[0m\u001b[0;34m)\u001b[0m\u001b[0;34m,\u001b[0m \u001b[0mmethod\u001b[0m\u001b[0;34m)\u001b[0m\u001b[0;34m(\u001b[0m\u001b[0;34m*\u001b[0m\u001b[0margs\u001b[0m\u001b[0;34m,\u001b[0m \u001b[0;34m**\u001b[0m\u001b[0mkwds\u001b[0m\u001b[0;34m)\u001b[0m\u001b[0;34m\u001b[0m\u001b[0;34m\u001b[0m\u001b[0m\n\u001b[0m\u001b[1;32m     45\u001b[0m     \u001b[0;32mif\u001b[0m \u001b[0mwrap\u001b[0m\u001b[0;34m:\u001b[0m\u001b[0;34m\u001b[0m\u001b[0;34m\u001b[0m\u001b[0m\n\u001b[1;32m     46\u001b[0m         \u001b[0;32mif\u001b[0m \u001b[0;32mnot\u001b[0m \u001b[0misinstance\u001b[0m\u001b[0;34m(\u001b[0m\u001b[0mresult\u001b[0m\u001b[0;34m,\u001b[0m \u001b[0mmu\u001b[0m\u001b[0;34m.\u001b[0m\u001b[0mndarray\u001b[0m\u001b[0;34m)\u001b[0m\u001b[0;34m:\u001b[0m\u001b[0;34m\u001b[0m\u001b[0;34m\u001b[0m\u001b[0m\n",
      "\u001b[0;31mValueError\u001b[0m: operands could not be broadcast together with shapes (17920,) (86363,) "
     ]
    }
   ],
   "source": [
    "import numpy as np\n",
    "np.argmin(dat.get_data())"
   ]
  },
  {
   "cell_type": "code",
   "execution_count": 62,
   "metadata": {},
   "outputs": [
    {
     "data": {
      "text/plain": [
       "array([127, 127, 127, ..., 127, 127, 127], dtype=uint8)"
      ]
     },
     "execution_count": 62,
     "metadata": {},
     "output_type": "execute_result"
    }
   ],
   "source": [
    "dat.get_data()[8]"
   ]
  },
  {
   "cell_type": "code",
   "execution_count": 64,
   "metadata": {},
   "outputs": [
    {
     "data": {
      "text/plain": [
       "[1, 2, 3, 4]"
      ]
     },
     "execution_count": 64,
     "metadata": {},
     "output_type": "execute_result"
    }
   ],
   "source": [
    "[1,2,3,4,5][:-1]"
   ]
  }
 ],
 "metadata": {
  "kernelspec": {
   "display_name": "wvnet",
   "language": "python",
   "name": "kickgen_wvnet"
  },
  "language_info": {
   "codemirror_mode": {
    "name": "ipython",
    "version": 3
   },
   "file_extension": ".py",
   "mimetype": "text/x-python",
   "name": "python",
   "nbconvert_exporter": "python",
   "pygments_lexer": "ipython3",
   "version": "3.8.1"
  }
 },
 "nbformat": 4,
 "nbformat_minor": 4
}
