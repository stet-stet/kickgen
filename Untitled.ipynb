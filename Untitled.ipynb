{
 "cells": [
  {
   "cell_type": "code",
   "execution_count": 13,
   "metadata": {},
   "outputs": [
    {
     "name": "stdout",
     "output_type": "stream",
     "text": [
      "Parameter containing:\n",
      "tensor([[[ 0.5661, -0.2802,  0.4005]]], requires_grad=True) <class 'torch.nn.parameter.Parameter'>\n",
      "tensor([[[1.2073, 1.8937, 2.5802]]], grad_fn=<SqueezeBackward1>)\n"
     ]
    }
   ],
   "source": [
    "import torch\n",
    "import torch.nn as nn\n",
    "\n",
    "lyr = nn.Conv1d(in_channels=1,out_channels=1,kernel_size=3,stride=1,bias=False)\n",
    "for entry in lyr.parameters():\n",
    "    print(entry,type(entry))\n",
    "\n",
    "param = torch.tensor([1,2,3,4,5],dtype=torch.float32)\n",
    "param = param.reshape((1,1,len(param)))\n",
    "print(lyr(param))"
   ]
  },
  {
   "cell_type": "code",
   "execution_count": 14,
   "metadata": {},
   "outputs": [
    {
     "name": "stdout",
     "output_type": "stream",
     "text": [
      "Parameter containing:\n",
      "tensor([[[-0.4788,  0.3121]]], requires_grad=True) <class 'torch.nn.parameter.Parameter'>\n",
      "tensor([[[ 0.3121,  0.1454, -0.0213, -0.1880, -0.3547, -2.3941]]],\n",
      "       grad_fn=<SqueezeBackward1>)\n"
     ]
    }
   ],
   "source": [
    "# now introducig padding:\n",
    "\n",
    "lyr = nn.Conv1d(in_channels=1,out_channels=1,kernel_size=2,stride=1,padding=1,bias=False)\n",
    "for entry in lyr.parameters():\n",
    "    print(entry,type(entry))\n",
    "    \n",
    "param = torch.tensor([1,2,3,4,5],dtype=torch.float32)\n",
    "param = param.reshape((1,1,len(param)))\n",
    "print(lyr(param))\n",
    "\n",
    "# six outputs. padding's on each side. \n",
    "# also the value of padding is 0."
   ]
  },
  {
   "cell_type": "code",
   "execution_count": 15,
   "metadata": {},
   "outputs": [
    {
     "name": "stdout",
     "output_type": "stream",
     "text": [
      "Parameter containing:\n",
      "tensor([[[ 0.0705, -0.4679]]], requires_grad=True) <class 'torch.nn.parameter.Parameter'>\n",
      "tensor([[[-1.3331, -1.7305, -2.1279]]], grad_fn=<SqueezeBackward1>)\n"
     ]
    }
   ],
   "source": [
    "# now introducig dilation\n",
    "\n",
    "lyr = nn.Conv1d(in_channels=1,out_channels=1,kernel_size=2,stride=1,dilation=2,bias=False)\n",
    "for entry in lyr.parameters():\n",
    "    print(entry,type(entry))\n",
    "    \n",
    "param = torch.tensor([1,2,3,4,5],dtype=torch.float32)\n",
    "param = param.reshape((1,1,len(param)))\n",
    "print(lyr(param))\n"
   ]
  },
  {
   "cell_type": "code",
   "execution_count": 24,
   "metadata": {},
   "outputs": [
    {
     "name": "stdout",
     "output_type": "stream",
     "text": [
      "Parameter containing:\n",
      "tensor([[[0.1678, 0.3504]]], requires_grad=True) <class 'torch.nn.parameter.Parameter'>\n",
      "tensor([[[0.3504, 0.7008, 1.0512, 1.4016, 1.7520]]], grad_fn=<SliceBackward>)\n"
     ]
    }
   ],
   "source": [
    "# suppose\n",
    "dilation = 512\n",
    "# we want the convs to be calculated well for the first input as well.\n",
    "# hence we do:\n",
    "lyr = nn.Conv1d(in_channels=1,out_channels=1,kernel_size=2,stride=1\n",
    "                ,padding=dilation,dilation=dilation,bias=False)\n",
    "for entry in lyr.parameters():\n",
    "    print(entry,type(entry))\n",
    "    \n",
    "param = torch.tensor([1,2,3,4,5],dtype=torch.float32)\n",
    "param = param.reshape((1,1,len(param)))\n",
    "#and then take the first five only.\n",
    "param = lyr(param)[:,:,:param.shape[2]]\n",
    "print(param)"
   ]
  },
  {
   "cell_type": "code",
   "execution_count": 27,
   "metadata": {},
   "outputs": [
    {
     "data": {
      "text/plain": [
       "1"
      ]
     },
     "execution_count": 27,
     "metadata": {},
     "output_type": "execute_result"
    }
   ],
   "source": [
    "param.size(1)"
   ]
  }
 ],
 "metadata": {
  "kernelspec": {
   "display_name": "wvnet",
   "language": "python",
   "name": "kickgen_wvnet"
  },
  "language_info": {
   "codemirror_mode": {
    "name": "ipython",
    "version": 3
   },
   "file_extension": ".py",
   "mimetype": "text/x-python",
   "name": "python",
   "nbconvert_exporter": "python",
   "pygments_lexer": "ipython3",
   "version": "3.8.1"
  }
 },
 "nbformat": 4,
 "nbformat_minor": 4
}
